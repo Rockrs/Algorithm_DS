{
  "nbformat": 4,
  "nbformat_minor": 0,
  "metadata": {
    "colab": {
      "name": "Numpy2.ipynb",
      "provenance": [],
      "collapsed_sections": [],
      "include_colab_link": true
    },
    "kernelspec": {
      "name": "python3",
      "display_name": "Python 3"
    }
  },
  "cells": [
    {
      "cell_type": "markdown",
      "metadata": {
        "id": "view-in-github",
        "colab_type": "text"
      },
      "source": [
        "<a href=\"https://colab.research.google.com/github/Rockrs/Algorithm_DS/blob/master/Numpy2.ipynb\" target=\"_parent\"><img src=\"https://colab.research.google.com/assets/colab-badge.svg\" alt=\"Open In Colab\"/></a>"
      ]
    },
    {
      "cell_type": "markdown",
      "metadata": {
        "id": "H-O9VlQcqqO0"
      },
      "source": [
        "Creating Numpy arrays"
      ]
    },
    {
      "cell_type": "markdown",
      "metadata": {
        "id": "fCVYnRd9sk55"
      },
      "source": [
        "1-D array"
      ]
    },
    {
      "cell_type": "code",
      "metadata": {
        "id": "m7dyDvnAmV_o"
      },
      "source": [
        "import numpy as np"
      ],
      "execution_count": null,
      "outputs": []
    },
    {
      "cell_type": "code",
      "metadata": {
        "colab": {
          "base_uri": "https://localhost:8080/"
        },
        "id": "1-kcnddgq19V",
        "outputId": "60b229be-bb45-4fec-d10a-a84808a5cca0"
      },
      "source": [
        "arr = np.arange(5)\n",
        "print(arr,type(arr))"
      ],
      "execution_count": null,
      "outputs": [
        {
          "output_type": "stream",
          "text": [
            "[0 1 2 3 4] <class 'numpy.ndarray'>\n"
          ],
          "name": "stdout"
        }
      ]
    },
    {
      "cell_type": "code",
      "metadata": {
        "colab": {
          "base_uri": "https://localhost:8080/"
        },
        "id": "zkaS6Y6rrPM7",
        "outputId": "b54ecc3a-6c40-452f-e056-07f64bb921c3"
      },
      "source": [
        "arr = np.array([1.2,2,3])\n",
        "print(arr,type(arr))"
      ],
      "execution_count": null,
      "outputs": [
        {
          "output_type": "stream",
          "text": [
            "[1.2 2.  3. ] <class 'numpy.ndarray'>\n"
          ],
          "name": "stdout"
        }
      ]
    },
    {
      "cell_type": "code",
      "metadata": {
        "colab": {
          "base_uri": "https://localhost:8080/"
        },
        "id": "9dQJcCUDsSJq",
        "outputId": "dc87d986-860a-4b0f-f809-f2f871458edb"
      },
      "source": [
        "arr.dtype"
      ],
      "execution_count": null,
      "outputs": [
        {
          "output_type": "execute_result",
          "data": {
            "text/plain": [
              "dtype('float64')"
            ]
          },
          "metadata": {
            "tags": []
          },
          "execution_count": 13
        }
      ]
    },
    {
      "cell_type": "code",
      "metadata": {
        "colab": {
          "base_uri": "https://localhost:8080/"
        },
        "id": "XrdCRmcusUdG",
        "outputId": "f46ba18c-dbed-40ae-c9e2-b42c83bcd6ea"
      },
      "source": [
        "arr.ndim"
      ],
      "execution_count": null,
      "outputs": [
        {
          "output_type": "execute_result",
          "data": {
            "text/plain": [
              "1"
            ]
          },
          "metadata": {
            "tags": []
          },
          "execution_count": 14
        }
      ]
    },
    {
      "cell_type": "code",
      "metadata": {
        "colab": {
          "base_uri": "https://localhost:8080/"
        },
        "id": "HJxo_2Zbrgzn",
        "outputId": "9bb8c42e-35d1-4084-8dd6-591990fee5b6"
      },
      "source": [
        "arr.shape"
      ],
      "execution_count": null,
      "outputs": [
        {
          "output_type": "execute_result",
          "data": {
            "text/plain": [
              "(3,)"
            ]
          },
          "metadata": {
            "tags": []
          },
          "execution_count": 12
        }
      ]
    },
    {
      "cell_type": "code",
      "metadata": {
        "colab": {
          "base_uri": "https://localhost:8080/"
        },
        "id": "1jIRmF30r8K7",
        "outputId": "4e9c8547-46b2-4890-dcc8-371d96c7a13f"
      },
      "source": [
        "arr.size"
      ],
      "execution_count": null,
      "outputs": [
        {
          "output_type": "execute_result",
          "data": {
            "text/plain": [
              "3"
            ]
          },
          "metadata": {
            "tags": []
          },
          "execution_count": 16
        }
      ]
    },
    {
      "cell_type": "code",
      "metadata": {
        "colab": {
          "base_uri": "https://localhost:8080/"
        },
        "id": "PdMMM2NmsArB",
        "outputId": "b916852a-b88b-49af-bd37-c25b39c1f52e"
      },
      "source": [
        "arr.itemsize"
      ],
      "execution_count": null,
      "outputs": [
        {
          "output_type": "execute_result",
          "data": {
            "text/plain": [
              "8"
            ]
          },
          "metadata": {
            "tags": []
          },
          "execution_count": 17
        }
      ]
    },
    {
      "cell_type": "markdown",
      "metadata": {
        "id": "Lwrc0fhzsu5C"
      },
      "source": [
        "2-d Array"
      ]
    },
    {
      "cell_type": "code",
      "metadata": {
        "colab": {
          "base_uri": "https://localhost:8080/"
        },
        "id": "DOTZ325ksuUP",
        "outputId": "07dd330d-3918-4dc1-8a76-4b8dad7706c1"
      },
      "source": [
        "arr2d = np.array([\n",
        "                 [1,2,3],\n",
        "                [4,5,6] \n",
        "])\n",
        "print(arr2d,type(arr2d))"
      ],
      "execution_count": null,
      "outputs": [
        {
          "output_type": "stream",
          "text": [
            "[[1 2 3]\n",
            " [4 5 6]] <class 'numpy.ndarray'>\n"
          ],
          "name": "stdout"
        }
      ]
    },
    {
      "cell_type": "code",
      "metadata": {
        "colab": {
          "base_uri": "https://localhost:8080/"
        },
        "id": "Vq54PPR1tLpa",
        "outputId": "a1d23f81-96a3-4c92-96e9-1c056e955f92"
      },
      "source": [
        "arr2d.size"
      ],
      "execution_count": null,
      "outputs": [
        {
          "output_type": "execute_result",
          "data": {
            "text/plain": [
              "6"
            ]
          },
          "metadata": {
            "tags": []
          },
          "execution_count": 25
        }
      ]
    },
    {
      "cell_type": "code",
      "metadata": {
        "colab": {
          "base_uri": "https://localhost:8080/"
        },
        "id": "ek9CTqPstpLz",
        "outputId": "c1d8d260-1ba4-47c4-aa08-4e9ec2fbc6d0"
      },
      "source": [
        "arr2d.ndim"
      ],
      "execution_count": null,
      "outputs": [
        {
          "output_type": "execute_result",
          "data": {
            "text/plain": [
              "2"
            ]
          },
          "metadata": {
            "tags": []
          },
          "execution_count": 26
        }
      ]
    },
    {
      "cell_type": "code",
      "metadata": {
        "colab": {
          "base_uri": "https://localhost:8080/"
        },
        "id": "cp438GbFtrzJ",
        "outputId": "6548d44f-2d3f-4321-d337-cf91b3eba1ac"
      },
      "source": [
        "arr2d.shape"
      ],
      "execution_count": null,
      "outputs": [
        {
          "output_type": "execute_result",
          "data": {
            "text/plain": [
              "(2, 3)"
            ]
          },
          "metadata": {
            "tags": []
          },
          "execution_count": 27
        }
      ]
    },
    {
      "cell_type": "code",
      "metadata": {
        "colab": {
          "base_uri": "https://localhost:8080/"
        },
        "id": "3jlFUVvLtvMS",
        "outputId": "4726a118-a4ba-4a6d-cd90-d8abb0d86eae"
      },
      "source": [
        "arr.dtype"
      ],
      "execution_count": null,
      "outputs": [
        {
          "output_type": "execute_result",
          "data": {
            "text/plain": [
              "dtype('float64')"
            ]
          },
          "metadata": {
            "tags": []
          },
          "execution_count": 28
        }
      ]
    },
    {
      "cell_type": "code",
      "metadata": {
        "colab": {
          "base_uri": "https://localhost:8080/"
        },
        "id": "0h8Vzzw9tytn",
        "outputId": "d6113c7d-b566-4100-9f31-7d5be6e3b35f"
      },
      "source": [
        "arr.itemsize"
      ],
      "execution_count": null,
      "outputs": [
        {
          "output_type": "execute_result",
          "data": {
            "text/plain": [
              "8"
            ]
          },
          "metadata": {
            "tags": []
          },
          "execution_count": 29
        }
      ]
    },
    {
      "cell_type": "markdown",
      "metadata": {
        "id": "-f4uio_8t78m"
      },
      "source": [
        "3-d Array"
      ]
    },
    {
      "cell_type": "code",
      "metadata": {
        "colab": {
          "base_uri": "https://localhost:8080/"
        },
        "id": "v6k-Rr7DxF6I",
        "outputId": "fe378379-2d61-4f65-ae82-947d5ec8b84b"
      },
      "source": [
        "arr3d = np.array([\n",
        "                  [\n",
        "                   [1,2,3],\n",
        "                   [4,5,6]\n",
        "                  ],\n",
        "                  [\n",
        "                   [7,8,9],\n",
        "                   [10,11,12]\n",
        "                  ]\n",
        "])\n",
        "print (arr3d,type(arr))"
      ],
      "execution_count": null,
      "outputs": [
        {
          "output_type": "stream",
          "text": [
            "[[[ 1  2  3]\n",
            "  [ 4  5  6]]\n",
            "\n",
            " [[ 7  8  9]\n",
            "  [10 11 12]]] <class 'numpy.ndarray'>\n"
          ],
          "name": "stdout"
        }
      ]
    },
    {
      "cell_type": "code",
      "metadata": {
        "colab": {
          "base_uri": "https://localhost:8080/"
        },
        "id": "CO1Q5dzmxa9r",
        "outputId": "f9eb5dd0-4f7b-4271-ab04-673135bec2ed"
      },
      "source": [
        "arr3d.shape"
      ],
      "execution_count": null,
      "outputs": [
        {
          "output_type": "execute_result",
          "data": {
            "text/plain": [
              "(2, 2, 3)"
            ]
          },
          "metadata": {
            "tags": []
          },
          "execution_count": 31
        }
      ]
    },
    {
      "cell_type": "code",
      "metadata": {
        "colab": {
          "base_uri": "https://localhost:8080/"
        },
        "id": "dq9y4EBexeqK",
        "outputId": "27cdae99-37cb-44d9-cea1-03c823c54221"
      },
      "source": [
        "arr.itemsize"
      ],
      "execution_count": null,
      "outputs": [
        {
          "output_type": "execute_result",
          "data": {
            "text/plain": [
              "8"
            ]
          },
          "metadata": {
            "tags": []
          },
          "execution_count": 32
        }
      ]
    },
    {
      "cell_type": "code",
      "metadata": {
        "colab": {
          "base_uri": "https://localhost:8080/"
        },
        "id": "V3ovH0VHxi1b",
        "outputId": "1e16e6d5-495f-4cac-ed03-270fade0a255"
      },
      "source": [
        "arr3d.ndim"
      ],
      "execution_count": null,
      "outputs": [
        {
          "output_type": "execute_result",
          "data": {
            "text/plain": [
              "3"
            ]
          },
          "metadata": {
            "tags": []
          },
          "execution_count": 34
        }
      ]
    },
    {
      "cell_type": "code",
      "metadata": {
        "colab": {
          "base_uri": "https://localhost:8080/"
        },
        "id": "HaaSO4uSxq5c",
        "outputId": "81f45b92-7d9a-493b-e43f-ab7b767af942"
      },
      "source": [
        "arr3d.size"
      ],
      "execution_count": null,
      "outputs": [
        {
          "output_type": "execute_result",
          "data": {
            "text/plain": [
              "12"
            ]
          },
          "metadata": {
            "tags": []
          },
          "execution_count": 36
        }
      ]
    },
    {
      "cell_type": "markdown",
      "metadata": {
        "id": "nvME5n6vyEG7"
      },
      "source": [
        "Initializing numpy arrays with specifc size"
      ]
    },
    {
      "cell_type": "code",
      "metadata": {
        "colab": {
          "base_uri": "https://localhost:8080/"
        },
        "id": "WaeYRI69yObk",
        "outputId": "2fb1ac16-e8d8-4025-9ca3-88e910bcba5b"
      },
      "source": [
        "# Arrays with ones\n",
        "\n",
        "np.ones((2,3,5))"
      ],
      "execution_count": null,
      "outputs": [
        {
          "output_type": "execute_result",
          "data": {
            "text/plain": [
              "array([[[1., 1., 1., 1., 1.],\n",
              "        [1., 1., 1., 1., 1.],\n",
              "        [1., 1., 1., 1., 1.]],\n",
              "\n",
              "       [[1., 1., 1., 1., 1.],\n",
              "        [1., 1., 1., 1., 1.],\n",
              "        [1., 1., 1., 1., 1.]]])"
            ]
          },
          "metadata": {
            "tags": []
          },
          "execution_count": 37
        }
      ]
    },
    {
      "cell_type": "code",
      "metadata": {
        "colab": {
          "base_uri": "https://localhost:8080/"
        },
        "id": "n9nX9cXIyiQA",
        "outputId": "5dd2912b-a2f7-47f8-f234-e46a0a6089bf"
      },
      "source": [
        "# Arrays with some other constant\n",
        "100*np.ones((2,3,5))"
      ],
      "execution_count": null,
      "outputs": [
        {
          "output_type": "execute_result",
          "data": {
            "text/plain": [
              "array([[[100., 100., 100., 100., 100.],\n",
              "        [100., 100., 100., 100., 100.],\n",
              "        [100., 100., 100., 100., 100.]],\n",
              "\n",
              "       [[100., 100., 100., 100., 100.],\n",
              "        [100., 100., 100., 100., 100.],\n",
              "        [100., 100., 100., 100., 100.]]])"
            ]
          },
          "metadata": {
            "tags": []
          },
          "execution_count": 38
        }
      ]
    },
    {
      "cell_type": "code",
      "metadata": {
        "colab": {
          "base_uri": "https://localhost:8080/"
        },
        "id": "gEzbalP_yuW5",
        "outputId": "33664a62-b224-4371-95fe-bf0b77d0e9ed"
      },
      "source": [
        "# Arrays with All zeros\n",
        "np.zeros((2,3,5))"
      ],
      "execution_count": null,
      "outputs": [
        {
          "output_type": "execute_result",
          "data": {
            "text/plain": [
              "array([[[0., 0., 0., 0., 0.],\n",
              "        [0., 0., 0., 0., 0.],\n",
              "        [0., 0., 0., 0., 0.]],\n",
              "\n",
              "       [[0., 0., 0., 0., 0.],\n",
              "        [0., 0., 0., 0., 0.],\n",
              "        [0., 0., 0., 0., 0.]]])"
            ]
          },
          "metadata": {
            "tags": []
          },
          "execution_count": 40
        }
      ]
    },
    {
      "cell_type": "markdown",
      "metadata": {
        "id": "gBkM_3JtzO6Y"
      },
      "source": [
        "Generating Random Numbers With Specific Distribution"
      ]
    },
    {
      "cell_type": "code",
      "metadata": {
        "colab": {
          "base_uri": "https://localhost:8080/"
        },
        "id": "13r4kWWzzJAP",
        "outputId": "265a3821-f321-4a2c-a2d1-580fd9437f57"
      },
      "source": [
        "# Getting random nunbers that are sampled form Normal Distribution ie. they have mean=0 and variance=1\n",
        "np.random.randn(2,3,4)"
      ],
      "execution_count": null,
      "outputs": [
        {
          "output_type": "execute_result",
          "data": {
            "text/plain": [
              "array([[[ 1.08465483, -2.31455364,  0.01736311, -1.18381191],\n",
              "        [-0.80875523,  0.69779446,  0.29805926,  2.40156474],\n",
              "        [ 0.96296009,  1.26776344, -1.75226734, -0.06395134]],\n",
              "\n",
              "       [[ 0.34862866, -1.09524195,  0.32833844,  0.66364313],\n",
              "        [-0.86330132,  0.08530584, -0.30017296, -0.31167798],\n",
              "        [ 0.02891413, -0.97929239, -1.48988751,  2.56992225]]])"
            ]
          },
          "metadata": {
            "tags": []
          },
          "execution_count": 43
        }
      ]
    },
    {
      "cell_type": "code",
      "metadata": {
        "colab": {
          "base_uri": "https://localhost:8080/"
        },
        "id": "nwmhHERv02qN",
        "outputId": "f44e0e41-51b1-45fd-9f32-47c5d0e5ce4f"
      },
      "source": [
        "# Getting random numbers between two integers\n",
        "np.random.randint(0,10,(2,3))"
      ],
      "execution_count": null,
      "outputs": [
        {
          "output_type": "execute_result",
          "data": {
            "text/plain": [
              "array([[3, 0, 2],\n",
              "       [3, 3, 9]])"
            ]
          },
          "metadata": {
            "tags": []
          },
          "execution_count": 44
        }
      ]
    },
    {
      "cell_type": "code",
      "metadata": {
        "id": "K6smgRhA1Knc",
        "colab": {
          "base_uri": "https://localhost:8080/"
        },
        "outputId": "22e16d9a-6e4d-4790-b8cb-12da82647f83"
      },
      "source": [
        "# Getting random numbers from Uniform Distributions and between 0-1\n",
        "np.random.rand(3,2,3)"
      ],
      "execution_count": null,
      "outputs": [
        {
          "output_type": "execute_result",
          "data": {
            "text/plain": [
              "array([[[0.82946527, 0.61499261, 0.5767375 ],\n",
              "        [0.5319295 , 0.83486276, 0.41737699]],\n",
              "\n",
              "       [[0.39559681, 0.06884984, 0.98804917],\n",
              "        [0.14510592, 0.32110064, 0.44090793]],\n",
              "\n",
              "       [[0.44719745, 0.1077858 , 0.18423586],\n",
              "        [0.03628731, 0.86720292, 0.94142995]]])"
            ]
          },
          "metadata": {
            "tags": []
          },
          "execution_count": 4
        }
      ]
    },
    {
      "cell_type": "code",
      "metadata": {
        "colab": {
          "base_uri": "https://localhost:8080/"
        },
        "id": "BKGMTYNG9i4-",
        "outputId": "5cad281a-bc46-476d-85ea-1b39a44b9a38"
      },
      "source": [
        "np.arange(7,70,6) # To generate numbers between start and end with particular step size"
      ],
      "execution_count": null,
      "outputs": [
        {
          "output_type": "execute_result",
          "data": {
            "text/plain": [
              "array([ 7, 13, 19, 25, 31, 37, 43, 49, 55, 61, 67])"
            ]
          },
          "metadata": {
            "tags": []
          },
          "execution_count": 14
        }
      ]
    },
    {
      "cell_type": "code",
      "metadata": {
        "colab": {
          "base_uri": "https://localhost:8080/"
        },
        "id": "lDgvAcrI95A6",
        "outputId": "6b7cf9eb-5cf1-42ad-cc55-cc28d870d519"
      },
      "source": [
        "np.linspace(7,70,6)"
      ],
      "execution_count": null,
      "outputs": [
        {
          "output_type": "execute_result",
          "data": {
            "text/plain": [
              "array([ 7. , 19.6, 32.2, 44.8, 57.4, 70. ])"
            ]
          },
          "metadata": {
            "tags": []
          },
          "execution_count": 15
        }
      ]
    },
    {
      "cell_type": "markdown",
      "metadata": {
        "id": "TgU42yRf-TbE"
      },
      "source": [
        "Numby Array with different types"
      ]
    },
    {
      "cell_type": "code",
      "metadata": {
        "colab": {
          "base_uri": "https://localhost:8080/"
        },
        "id": "_3TFAfGg-X8a",
        "outputId": "4fc9a1d8-84cf-4b4a-9cdc-103313c78d3d"
      },
      "source": [
        "np.array([True,False,True,False])\n",
        "str_arr = np.array(['1.21','1.2','1.33','1.5'])\n",
        "print (str_arr,type(str_arr))\n",
        "\n",
        "convert_str_float = np.array(str_arr,dtype='float')\n",
        "print(convert_str_float)"
      ],
      "execution_count": null,
      "outputs": [
        {
          "output_type": "stream",
          "text": [
            "['1.21' '1.2' '1.33' '1.5'] <class 'numpy.ndarray'>\n",
            "[1.21 1.2  1.33 1.5 ]\n"
          ],
          "name": "stdout"
        }
      ]
    },
    {
      "cell_type": "markdown",
      "metadata": {
        "id": "fV_yuMWp_dRv"
      },
      "source": [
        "Indexing Numpy Array"
      ]
    },
    {
      "cell_type": "code",
      "metadata": {
        "colab": {
          "base_uri": "https://localhost:8080/"
        },
        "id": "WCtG0Zr9_iTs",
        "outputId": "0426ed39-7451-4c02-a8ac-cb42a3ae792b"
      },
      "source": [
        "arr4d=np.array([[\n",
        "    [[1,2,3],\n",
        "    [4,5,6]\n",
        "    ],\n",
        "    [[7,8,9],\n",
        "    [10,11,12]\n",
        "        ],\n",
        "    [[13,14,15],\n",
        "    [16,17,18]\n",
        "        ]\n",
        "    ],\n",
        "    \n",
        "    [\n",
        "    [[1,6,3],\n",
        "    [4,8,3]\n",
        "    ],\n",
        "    [[7,8,7],\n",
        "    [10,1,2]\n",
        "        ],\n",
        "    [[3,4,5],\n",
        "    [169,179,189]\n",
        "        ]\n",
        "    ]])\n",
        "\n",
        "print(arr4d.shape)\n",
        "#print(arr4d[0,0,0,0])\n",
        "#print(arr4d[1,1,1,1])\n",
        "print (arr4d[:,1:,:,:])"
      ],
      "execution_count": null,
      "outputs": [
        {
          "output_type": "stream",
          "text": [
            "(2, 3, 2, 3)\n",
            "[[[[  7   8   9]\n",
            "   [ 10  11  12]]\n",
            "\n",
            "  [[ 13  14  15]\n",
            "   [ 16  17  18]]]\n",
            "\n",
            "\n",
            " [[[  7   8   7]\n",
            "   [ 10   1   2]]\n",
            "\n",
            "  [[  3   4   5]\n",
            "   [169 179 189]]]]\n"
          ],
          "name": "stdout"
        }
      ]
    },
    {
      "cell_type": "markdown",
      "metadata": {
        "id": "eQYLRjbwGclC"
      },
      "source": [
        "Fancy Indexing.. example to find Integers in my n-d array which are even"
      ]
    },
    {
      "cell_type": "code",
      "metadata": {
        "colab": {
          "base_uri": "https://localhost:8080/"
        },
        "id": "uwIxLwPqHJ0f",
        "outputId": "acf60691-42af-4a47-973b-b68b5f8d5a5e"
      },
      "source": [
        "arr4d=np.array([[\n",
        "    [[1,2,3],\n",
        "    [4,5,6]\n",
        "    ],\n",
        "    [[7,8,9],\n",
        "    [10,11,12]\n",
        "        ],\n",
        "    [[13,14,15],\n",
        "    [16,17,18]\n",
        "        ]\n",
        "    ],\n",
        "    \n",
        "    [\n",
        "    [[1,6,3],\n",
        "    [4,8,3]\n",
        "    ],\n",
        "    [[7,8,7],\n",
        "    [10,1,2]\n",
        "        ],\n",
        "    [[3,4,5],\n",
        "    [169,179,189]\n",
        "        ]\n",
        "    ]])\n",
        "\n",
        "print(arr4d.size)\n",
        "#arr4d %2==0\n",
        "print(arr4d[arr4d % 2==0])"
      ],
      "execution_count": null,
      "outputs": [
        {
          "output_type": "stream",
          "text": [
            "36\n",
            "[ 2  4  6  8 10 12 14 16 18  6  4  8  8 10  2  4]\n"
          ],
          "name": "stdout"
        }
      ]
    },
    {
      "cell_type": "markdown",
      "metadata": {
        "id": "bQp52z1PIuC9"
      },
      "source": [
        "Array Slices"
      ]
    },
    {
      "cell_type": "code",
      "metadata": {
        "colab": {
          "base_uri": "https://localhost:8080/"
        },
        "id": "fwpDSj2DIx3o",
        "outputId": "3dd38439-30e4-4008-d1da-6e27953a1305"
      },
      "source": [
        "arr4d=np.array([[\n",
        "    [[1,2,3],\n",
        "    [4,5,6]\n",
        "    ],\n",
        "    [[7,8,9],\n",
        "    [10,11,12]\n",
        "        ],\n",
        "    [[13,14,15],\n",
        "    [16,17,18]\n",
        "        ]\n",
        "    ],\n",
        "    \n",
        "    [\n",
        "    [[1,6,3],\n",
        "    [4,8,3]\n",
        "    ],\n",
        "    [[20,21,23],\n",
        "    [31,32,33]\n",
        "        ],\n",
        "    [[3,4,5],\n",
        "    [169,179,189]\n",
        "        ]\n",
        "    ]])\n",
        "\n",
        "arr_slice = arr4d[:,1,:,:]\n",
        "print (arr_slice)\n",
        "arr_slice[0,0,0] = 100\n",
        "print(arr_slice)\n",
        "print (arr4d)"
      ],
      "execution_count": null,
      "outputs": [
        {
          "output_type": "stream",
          "text": [
            "[[[ 7  8  9]\n",
            "  [10 11 12]]\n",
            "\n",
            " [[20 21 23]\n",
            "  [31 32 33]]]\n",
            "[[[100   8   9]\n",
            "  [ 10  11  12]]\n",
            "\n",
            " [[ 20  21  23]\n",
            "  [ 31  32  33]]]\n",
            "[[[[  1   2   3]\n",
            "   [  4   5   6]]\n",
            "\n",
            "  [[100   8   9]\n",
            "   [ 10  11  12]]\n",
            "\n",
            "  [[ 13  14  15]\n",
            "   [ 16  17  18]]]\n",
            "\n",
            "\n",
            " [[[  1   6   3]\n",
            "   [  4   8   3]]\n",
            "\n",
            "  [[ 20  21  23]\n",
            "   [ 31  32  33]]\n",
            "\n",
            "  [[  3   4   5]\n",
            "   [169 179 189]]]]\n"
          ],
          "name": "stdout"
        }
      ]
    },
    {
      "cell_type": "code",
      "metadata": {
        "colab": {
          "base_uri": "https://localhost:8080/"
        },
        "id": "hJ7AFcH4RtCI",
        "outputId": "0612ff95-de94-44d3-a8d8-256a7f5316c3"
      },
      "source": [
        "arr=np.random.randint(0,10,(5,))\n",
        "arr_list = [1,2,3]\n",
        "print(arr[arr_list])"
      ],
      "execution_count": null,
      "outputs": [
        {
          "output_type": "stream",
          "text": [
            "[9 5 3]\n"
          ],
          "name": "stdout"
        }
      ]
    },
    {
      "cell_type": "markdown",
      "metadata": {
        "id": "Onvw9tQQTBUn"
      },
      "source": [
        "Operations on Arrays"
      ]
    },
    {
      "cell_type": "code",
      "metadata": {
        "colab": {
          "base_uri": "https://localhost:8080/"
        },
        "id": "OMgRRdBkTFGL",
        "outputId": "e912d900-402f-452c-e55c-129bb45a4cfb"
      },
      "source": [
        "arr1 = np.random.rand(3,4,2)\n",
        "arr2 = np.random.rand(3,4,2)\n",
        "#print (arr1)\n",
        "#print (arr2)\n",
        "\n",
        "print (arr1+arr2)\n",
        "print(arr1*arr2)\n",
        "print(arr1/arr2)"
      ],
      "execution_count": null,
      "outputs": [
        {
          "output_type": "stream",
          "text": [
            "[[[1.08895377 0.72871232]\n",
            "  [0.48883507 1.01981367]\n",
            "  [1.11075287 0.75377736]\n",
            "  [0.7347568  1.06188241]]\n",
            "\n",
            " [[1.49502937 0.80605785]\n",
            "  [0.73095476 0.6078431 ]\n",
            "  [1.12390694 1.16135725]\n",
            "  [1.71835346 0.22244932]]\n",
            "\n",
            " [[0.84151472 0.40792722]\n",
            "  [1.12216923 1.61154862]\n",
            "  [0.05438977 1.20119379]\n",
            "  [0.65736947 0.56126968]]]\n",
            "[[[2.90064342e-01 5.96461603e-02]\n",
            "  [5.81561646e-03 2.41569513e-01]\n",
            "  [1.71059615e-01 1.33708107e-01]\n",
            "  [8.47656896e-02 2.74284618e-01]]\n",
            "\n",
            " [[5.52732987e-01 1.61986048e-01]\n",
            "  [1.29428268e-01 8.70780380e-02]\n",
            "  [1.36988539e-01 2.19102380e-01]\n",
            "  [7.36808080e-01 5.54057237e-03]]\n",
            "\n",
            " [[7.35797648e-02 2.74170151e-02]\n",
            "  [2.38584588e-01 6.32784173e-01]\n",
            "  [6.47514792e-04 3.47000590e-01]\n",
            "  [9.43224605e-02 7.33300561e-02]]]\n",
            "[[[ 1.34418124  6.7548215 ]\n",
            "  [39.06372004  1.72583015]\n",
            "  [ 5.01304657  0.60996216]\n",
            "  [ 4.12660997  0.71770284]]\n",
            "\n",
            " [[ 0.81157342  1.11062982]\n",
            "  [ 0.70043841  0.61378935]\n",
            "  [ 7.07971855  3.89934787]\n",
            "  [ 1.09026494  0.14741128]]\n",
            "\n",
            " [[ 7.49071022  0.26269491]\n",
            "  [ 0.3404079   0.725094  ]\n",
            "  [ 0.47842484  0.67364227]\n",
            "  [ 2.10680893  0.58418626]]]\n"
          ],
          "name": "stdout"
        }
      ]
    },
    {
      "cell_type": "markdown",
      "metadata": {
        "id": "_0BPKOOWaf4T"
      },
      "source": [
        "Excercise--1 Calculate area left out of square of unit 1 when a circle or radius 1 is drawn inside it"
      ]
    },
    {
      "cell_type": "code",
      "metadata": {
        "colab": {
          "base_uri": "https://localhost:8080/"
        },
        "id": "ey3rftqdavHM",
        "outputId": "b094da5d-23e1-48e0-9f20-854713efa975"
      },
      "source": [
        "ndim = 2\n",
        "npoints = 100000\n",
        "points = np.random.rand(npoints,ndim)\n",
        "\n",
        "dfo = np.zeros((npoints,1))\n",
        "for i in range(npoints):\n",
        "  for j in range(ndim):\n",
        "    dfo[i] += points[i][j]**2\n",
        "  \n",
        "dfo = np.sqrt(dfo)\n",
        "points_in_circle = dfo[dfo<=1]\n",
        "f_points_outside_circle = (npoints-points_in_circle.size)/npoints\n",
        "print (f_points_outside_circle*100)\n",
        "\n"
      ],
      "execution_count": null,
      "outputs": [
        {
          "output_type": "stream",
          "text": [
            "21.521\n"
          ],
          "name": "stdout"
        }
      ]
    },
    {
      "cell_type": "code",
      "metadata": {
        "id": "pfG3fIPyhp9w"
      },
      "source": [
        "_"
      ],
      "execution_count": null,
      "outputs": []
    }
  ]
}