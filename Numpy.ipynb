{
  "nbformat": 4,
  "nbformat_minor": 0,
  "metadata": {
    "colab": {
      "name": "Numpy.ipynb",
      "provenance": [],
      "authorship_tag": "ABX9TyMEEJlTPx0w5QqyW4Nj6yDa",
      "include_colab_link": true
    },
    "kernelspec": {
      "name": "python3",
      "display_name": "Python 3"
    }
  },
  "cells": [
    {
      "cell_type": "markdown",
      "metadata": {
        "id": "view-in-github",
        "colab_type": "text"
      },
      "source": [
        "<a href=\"https://colab.research.google.com/github/Rockrs/Algorithm_DS/blob/master/Numpy.ipynb\" target=\"_parent\"><img src=\"https://colab.research.google.com/assets/colab-badge.svg\" alt=\"Open In Colab\"/></a>"
      ]
    },
    {
      "cell_type": "markdown",
      "metadata": {
        "id": "51GxDCwEbPLb"
      },
      "source": [
        "Declaring and Initializing our List and N-d array"
      ]
    },
    {
      "cell_type": "code",
      "metadata": {
        "id": "xEKu3oeTZpre"
      },
      "source": [
        "import numpy as np\n",
        "N = 100000000\n",
        "list_ = list(range(N))\n",
        "arr = np.arange(N)"
      ],
      "execution_count": 2,
      "outputs": []
    },
    {
      "cell_type": "markdown",
      "metadata": {
        "id": "8WyDC67OQG4i"
      },
      "source": [
        "Comparing Performance of different ways to use List"
      ]
    },
    {
      "cell_type": "code",
      "metadata": {
        "colab": {
          "base_uri": "https://localhost:8080/"
        },
        "id": "6j1kMQDFboFq",
        "outputId": "15f768f3-91d5-45f3-92c9-8a7906152c6f"
      },
      "source": [
        "%%time\n",
        "\n",
        "for i in range(N):\n",
        "  list_[i] = list_[i]**2"
      ],
      "execution_count": 22,
      "outputs": [
        {
          "output_type": "stream",
          "text": [
            "CPU times: user 40.6 s, sys: 4 µs, total: 40.6 s\n",
            "Wall time: 40.7 s\n"
          ],
          "name": "stdout"
        }
      ]
    },
    {
      "cell_type": "code",
      "metadata": {
        "colab": {
          "base_uri": "https://localhost:8080/"
        },
        "id": "GK2kyOYAQNKO",
        "outputId": "cede8498-5d31-41da-d44d-5be69eaa21fb"
      },
      "source": [
        "%%time\n",
        "list_ = [item**2 for item in list_]"
      ],
      "execution_count": 4,
      "outputs": [
        {
          "output_type": "stream",
          "text": [
            "CPU times: user 1min 8s, sys: 2.43 s, total: 1min 10s\n",
            "Wall time: 1min 10s\n"
          ],
          "name": "stdout"
        }
      ]
    },
    {
      "cell_type": "code",
      "metadata": {
        "colab": {
          "base_uri": "https://localhost:8080/"
        },
        "id": "-JwUSZuybqkD",
        "outputId": "db52f632-d5af-4641-8306-93952d4cd065"
      },
      "source": [
        "%%time\n",
        "list_ = map(lambda x: x**2,list_)"
      ],
      "execution_count": 5,
      "outputs": [
        {
          "output_type": "stream",
          "text": [
            "CPU times: user 4 µs, sys: 0 ns, total: 4 µs\n",
            "Wall time: 6.68 µs\n"
          ],
          "name": "stdout"
        }
      ]
    },
    {
      "cell_type": "markdown",
      "metadata": {
        "id": "fmvfMW9kZYuJ"
      },
      "source": [
        "Comparing List vs Numpy"
      ]
    },
    {
      "cell_type": "code",
      "metadata": {
        "colab": {
          "base_uri": "https://localhost:8080/"
        },
        "id": "1yLS4NOPaCo4",
        "outputId": "0bc55576-7e85-463b-d82b-2ed8613a82d4"
      },
      "source": [
        "%%time\n",
        "\n",
        "# Way to Square every items in n-d array\n",
        "# Order of times faster than list\n",
        "arr = arr * arr "
      ],
      "execution_count": 12,
      "outputs": [
        {
          "output_type": "stream",
          "text": [
            "CPU times: user 315 ms, sys: 8.83 ms, total: 324 ms\n",
            "Wall time: 333 ms\n"
          ],
          "name": "stdout"
        }
      ]
    },
    {
      "cell_type": "code",
      "metadata": {
        "colab": {
          "base_uri": "https://localhost:8080/"
        },
        "id": "XtsGfBpMbGih",
        "outputId": "a80cbddf-0f90-4365-e628-4edac046282b"
      },
      "source": [
        "%%time\n",
        "arr_sum = np.sum(arr)"
      ],
      "execution_count": 6,
      "outputs": [
        {
          "output_type": "stream",
          "text": [
            "CPU times: user 105 ms, sys: 1.05 ms, total: 106 ms\n",
            "Wall time: 114 ms\n"
          ],
          "name": "stdout"
        }
      ]
    }
  ]
}