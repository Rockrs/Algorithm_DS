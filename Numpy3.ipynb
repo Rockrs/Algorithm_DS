{
  "nbformat": 4,
  "nbformat_minor": 0,
  "metadata": {
    "colab": {
      "name": "Numpy3.ipynb",
      "provenance": [],
      "authorship_tag": "ABX9TyOSg72kVacpmf6Ml7iLw6it",
      "include_colab_link": true
    },
    "kernelspec": {
      "name": "python3",
      "display_name": "Python 3"
    }
  },
  "cells": [
    {
      "cell_type": "markdown",
      "metadata": {
        "id": "view-in-github",
        "colab_type": "text"
      },
      "source": [
        "<a href=\"https://colab.research.google.com/github/Rockrs/Algorithm_DS/blob/master/Numpy3.ipynb\" target=\"_parent\"><img src=\"https://colab.research.google.com/assets/colab-badge.svg\" alt=\"Open In Colab\"/></a>"
      ]
    },
    {
      "cell_type": "code",
      "metadata": {
        "id": "i8L6GufAMmi7"
      },
      "source": [
        "import numpy as np\n",
        "\n",
        "print(np.zeros(10)) # null vector of size 10\n",
        "\n",
        "Z = np.zeros((10,10))\n",
        "print (Z.size*Z.itemsize)  # Size of numpy array\n",
        "\n",
        "Z = np.zeros(10)\n",
        "Z[4] =1\n",
        "print (Z)\n",
        "\n",
        "Z = np.arange(10,49)    # Vectors of numbers between two numbers\n",
        "Z = Z[::-1]             # Reverse vectors\n",
        "print (Z)          \n",
        "\n",
        "arr = np.arange(0,9).reshape(3,-1) # 3*3 matrix of elements from 0-8\n",
        "print (arr)\n",
        "\n",
        "arr = np.array([0,0,3,4,23,1]) # Indices of non-zero elements from vectors\n",
        "print (np.nonzero(arr))\n",
        "\n",
        "arr = np.eye(3)  # Identity Matrix\n",
        "print (arr)\n",
        "\n",
        "arr = np.random.randint(0,49,size=(3,3,3))  # tensors of random integers between given range\n",
        "print (arr)\n",
        "\n",
        "arr = np.random.rand(3,3,3) # tensors of random integes from 0-1\n",
        "print (arr)\n",
        "print (arr.min(),arr.max()) # Minimum and Maximum from arrays\n",
        "\n",
        "arr = np.random.rand(30,)\n",
        "print(arr)\n",
        "print(arr.mean())  # Mean"
      ],
      "execution_count": null,
      "outputs": []
    }
  ]
}