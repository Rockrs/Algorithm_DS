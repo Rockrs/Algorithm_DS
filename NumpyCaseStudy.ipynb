{
  "nbformat": 4,
  "nbformat_minor": 0,
  "metadata": {
    "colab": {
      "name": "NumpyCaseStudy.ipynb",
      "provenance": [],
      "toc_visible": true,
      "authorship_tag": "ABX9TyOEhsTkk3mKrgGtapTmRZSk",
      "include_colab_link": true
    },
    "kernelspec": {
      "name": "python3",
      "display_name": "Python 3"
    }
  },
  "cells": [
    {
      "cell_type": "markdown",
      "metadata": {
        "id": "view-in-github",
        "colab_type": "text"
      },
      "source": [
        "<a href=\"https://colab.research.google.com/github/Rockrs/Algorithm_DS/blob/master/NumpyCaseStudy.ipynb\" target=\"_parent\"><img src=\"https://colab.research.google.com/assets/colab-badge.svg\" alt=\"Open In Colab\"/></a>"
      ]
    },
    {
      "cell_type": "code",
      "metadata": {
        "id": "bCTbNGcIvalb"
      },
      "source": [
        "import numpy as np"
      ],
      "execution_count": null,
      "outputs": []
    },
    {
      "cell_type": "markdown",
      "metadata": {
        "id": "RswXlGo5vy8z"
      },
      "source": [
        "Case Study"
      ]
    },
    {
      "cell_type": "code",
      "metadata": {
        "colab": {
          "base_uri": "https://localhost:8080/"
        },
        "id": "oc28lfobw1g3",
        "outputId": "946e6efb-7cb5-4e78-914f-410d1f7b8ce8"
      },
      "source": [
        "! head cric_data.tsv"
      ],
      "execution_count": null,
      "outputs": [
        {
          "output_type": "stream",
          "text": [
            "\tSachin Tendulkar\tRahul Dravid\tIndia\n",
            "0\t100\t78\t342\n",
            "1\t11\t62\t191\n",
            "2\t8\t85\t252\n",
            "3\t71\t24\t307\n",
            "4\t104\t17\t229\n",
            "5\t18\t104\t246\n",
            "6\t8\t76\t226\n",
            "7\t86\t74\t288\n",
            "8\t12\t60\t216\n"
          ],
          "name": "stdout"
        }
      ]
    },
    {
      "cell_type": "markdown",
      "metadata": {
        "id": "guDtrkV2xSsZ"
      },
      "source": [
        "\r\n",
        "\r\n",
        "*   Find Median, mean, IQR for Sachin and Rahul and India\r\n",
        "*   Find Sachin's Histogram of Sachin's Score with 10 bins\r\n",
        "*   Find Mean of Sachin's Score Grouped by 25 matches\r\n",
        "*   Find Mean of Sachin's Score where Sachin score century\r\n",
        "*   Find Mean of Sachin Score where Rahul has scored less than 10\r\n",
        "*   Find Mean of Sachin score based on which quartile India's score falls\r\n",
        "*   For every match who has scored more Sachin or Rahul\r\n",
        "*   How many more run Sachin score on average after having scored x runs\r\n",
        "*  How many matches did Sachin take to score 1000, 2000, 3000 and so on\r\n",
        "\r\n",
        "\r\n",
        "\r\n",
        "\r\n",
        "\r\n",
        "\r\n",
        "\r\n",
        "\r\n"
      ]
    },
    {
      "cell_type": "markdown",
      "metadata": {
        "id": "1PUjjOzUzs8v"
      },
      "source": [
        "### Problem 1"
      ]
    },
    {
      "cell_type": "code",
      "metadata": {
        "id": "QImKrdeozRm5"
      },
      "source": [
        "cric_data = np.loadtxt('cric_data.tsv', skiprows =1)"
      ],
      "execution_count": null,
      "outputs": []
    },
    {
      "cell_type": "code",
      "metadata": {
        "colab": {
          "base_uri": "https://localhost:8080/"
        },
        "id": "4JLOJuIExCNL",
        "outputId": "c1cb7a41-fe60-4991-a3c9-e91b11a942ab"
      },
      "source": [
        "cric_data.shape"
      ],
      "execution_count": null,
      "outputs": [
        {
          "output_type": "execute_result",
          "data": {
            "text/plain": [
              "(225, 4)"
            ]
          },
          "metadata": {
            "tags": []
          },
          "execution_count": 3
        }
      ]
    },
    {
      "cell_type": "code",
      "metadata": {
        "id": "YnVz6KxG0J_V"
      },
      "source": [
        "cric_data = cric_data[:, 1:]"
      ],
      "execution_count": null,
      "outputs": []
    },
    {
      "cell_type": "code",
      "metadata": {
        "colab": {
          "base_uri": "https://localhost:8080/"
        },
        "id": "lhM_7u8b0j5k",
        "outputId": "c40f734d-6253-476a-d745-27f21ec95404"
      },
      "source": [
        "cric_data.shape"
      ],
      "execution_count": null,
      "outputs": [
        {
          "output_type": "execute_result",
          "data": {
            "text/plain": [
              "(225, 3)"
            ]
          },
          "metadata": {
            "tags": []
          },
          "execution_count": 14
        }
      ]
    },
    {
      "cell_type": "code",
      "metadata": {
        "id": "VR1KNvyh0lED"
      },
      "source": [
        "cric_data_sachin = cric_data[:, 0]\r\n",
        "cric_data_rahul = cric_data[:, 1]\r\n",
        "cric_data_india = cric_data[:, 2]"
      ],
      "execution_count": null,
      "outputs": []
    },
    {
      "cell_type": "code",
      "metadata": {
        "id": "K2YwYTLL05AR"
      },
      "source": [
        "def stats(col):\r\n",
        "  print('Mean:', np.mean(col))\r\n",
        "  print('Median:', np.median(col))\r\n",
        "  print('IQR:', np.percentile(col, 75) - np.percentile(col, 25))"
      ],
      "execution_count": null,
      "outputs": []
    },
    {
      "cell_type": "code",
      "metadata": {
        "colab": {
          "base_uri": "https://localhost:8080/"
        },
        "id": "DZQ4rAWf1WFJ",
        "outputId": "90abc4c2-f16f-4500-d284-3edf2389b57f"
      },
      "source": [
        "stats(cric_data_sachin)"
      ],
      "execution_count": null,
      "outputs": [
        {
          "output_type": "stream",
          "text": [
            "Mean: 39.87555555555556\n",
            "Median: 27.0\n",
            "IQR: 57.0\n"
          ],
          "name": "stdout"
        }
      ]
    },
    {
      "cell_type": "code",
      "metadata": {
        "colab": {
          "base_uri": "https://localhost:8080/"
        },
        "id": "0tsNm6Qf1ZDE",
        "outputId": "052a38a1-500a-4172-bade-df717b79c781"
      },
      "source": [
        "stats(cric_data_rahul)"
      ],
      "execution_count": null,
      "outputs": [
        {
          "output_type": "stream",
          "text": [
            "Mean: 32.062222222222225\n",
            "Median: 22.0\n",
            "IQR: 46.0\n"
          ],
          "name": "stdout"
        }
      ]
    },
    {
      "cell_type": "code",
      "metadata": {
        "colab": {
          "base_uri": "https://localhost:8080/"
        },
        "id": "GH30pr3Q1bxS",
        "outputId": "00325368-8acf-45cf-d19d-fe4f447e8fb9"
      },
      "source": [
        "stats(cric_data_india)"
      ],
      "execution_count": null,
      "outputs": [
        {
          "output_type": "stream",
          "text": [
            "Mean: 220.79555555555555\n",
            "Median: 216.0\n",
            "IQR: 98.0\n"
          ],
          "name": "stdout"
        }
      ]
    },
    {
      "cell_type": "markdown",
      "metadata": {
        "id": "qBx0tPzA14z8"
      },
      "source": [
        "Efficient Way to do Above Operations"
      ]
    },
    {
      "cell_type": "code",
      "metadata": {
        "colab": {
          "base_uri": "https://localhost:8080/"
        },
        "id": "MMNUJJSM1e2G",
        "outputId": "6c96dce5-b76f-4ac3-968b-50d2f9f1574c"
      },
      "source": [
        "np.mean(cric_data, axis =0)"
      ],
      "execution_count": null,
      "outputs": [
        {
          "output_type": "execute_result",
          "data": {
            "text/plain": [
              "array([ 39.87555556,  32.06222222, 220.79555556])"
            ]
          },
          "metadata": {
            "tags": []
          },
          "execution_count": 20
        }
      ]
    },
    {
      "cell_type": "code",
      "metadata": {
        "colab": {
          "base_uri": "https://localhost:8080/"
        },
        "id": "Q7QUvH2Z2C9q",
        "outputId": "f5a72a20-b4ad-4e27-f630-589a1f4c87f9"
      },
      "source": [
        "np.median(cric_data, axis=0)"
      ],
      "execution_count": null,
      "outputs": [
        {
          "output_type": "execute_result",
          "data": {
            "text/plain": [
              "array([ 27.,  22., 216.])"
            ]
          },
          "metadata": {
            "tags": []
          },
          "execution_count": 22
        }
      ]
    },
    {
      "cell_type": "code",
      "metadata": {
        "colab": {
          "base_uri": "https://localhost:8080/"
        },
        "id": "S6D6qI982HiR",
        "outputId": "ef42e664-8144-4028-85e1-9f93a06af7ea"
      },
      "source": [
        "np.percentile(cric_data, 75, axis=0)  - np.percentile(cric_data, 25, axis=0)"
      ],
      "execution_count": null,
      "outputs": [
        {
          "output_type": "execute_result",
          "data": {
            "text/plain": [
              "array([57., 46., 98.])"
            ]
          },
          "metadata": {
            "tags": []
          },
          "execution_count": 23
        }
      ]
    },
    {
      "cell_type": "markdown",
      "metadata": {
        "id": "Mn5_Ni-Y2pIG"
      },
      "source": [
        "###Problem 2"
      ]
    },
    {
      "cell_type": "code",
      "metadata": {
        "colab": {
          "base_uri": "https://localhost:8080/"
        },
        "id": "pxG6apqP2mLE",
        "outputId": "93e1695a-72f5-42c9-a511-59bc7920a108"
      },
      "source": [
        "np.histogram(cric_data_sachin)"
      ],
      "execution_count": null,
      "outputs": [
        {
          "output_type": "execute_result",
          "data": {
            "text/plain": [
              "(array([99, 36, 28, 16, 11, 17,  8,  8,  1,  1]),\n",
              " array([  0. ,  18.6,  37.2,  55.8,  74.4,  93. , 111.6, 130.2, 148.8,\n",
              "        167.4, 186. ]))"
            ]
          },
          "metadata": {
            "tags": []
          },
          "execution_count": 25
        }
      ]
    },
    {
      "cell_type": "code",
      "metadata": {
        "colab": {
          "base_uri": "https://localhost:8080/"
        },
        "id": "i4vzbZ9Q2uPD",
        "outputId": "86b9324f-eac4-416a-c301-959b37774c2b"
      },
      "source": [
        "cric_data_sachin"
      ],
      "execution_count": null,
      "outputs": [
        {
          "output_type": "execute_result",
          "data": {
            "text/plain": [
              "array([100.,  11.,   8.,  71., 104.,  18.,   8.,  86.,  12.,  85.,  18.,\n",
              "         4.,   7.,  37.,  14.,   0.,   4.,   0.,  21.,   1.,  62.,   0.,\n",
              "       138.,  38.,   2.,  46.,  65.,   0.,  39.,  48., 141.,  62.,  12.,\n",
              "         1.,  41.,  11.,   3., 186.,  11.,  27.,  27.,  51.,  18.,  32.,\n",
              "       146.,   5.,  45., 141.,  12.,  65.,  27.,   7.,  16.,   2.,  28.,\n",
              "         6., 123., 120.,   7.,   3.,   0.,  81.,   2.,  54., 122.,   4.,\n",
              "        14.,   0., 100.,  15.,   0.,  57.,  99.,  37.,  38.,  32.,  21.,\n",
              "        32.,  40.,   0.,   5.,   8.,   5.,   0.,  50.,  30.,  37.,  89.,\n",
              "         4.,  98.,  83.,  93.,   0.,  52., 152.,   1.,   8.,  93.,  45.,\n",
              "        26.,   0.,   1.,   0.,  16.,  47.,  89.,   3.,   1.,  53.,  16.,\n",
              "         0.,  81.,  14.,  78.,   6., 105., 122.,   9.,   8.,  28.,  35.,\n",
              "        69.,  13.,  97.,  93.,   2.,  36.,  39.,   2.,  29.,  12.,  19.,\n",
              "        34.,   2., 100.,  44.,  82.,   0.,  79.,   6.,   9.,   8.,  23.,\n",
              "        93.,  35.,  63.,  74.,   8., 117.,  39.,  49.,  64.,  43.,  72.,\n",
              "         5.,  17.,   0.,  65.,  20., 141.,  28.,  44.,  27.,  60.,  68.,\n",
              "         3., 139.,  31.,   2.,  44.,  47.,   6.,  17.,  35.,  88., 114.,\n",
              "         7., 127.,   0.,  45.,  33., 110., 146.,   7.,  25.,   9.,   2.,\n",
              "        11.,  17.,  14.,   1.,  45.,  94.,  28.,   4.,  62.,   1.,   9.,\n",
              "        67.,  10.,  99.,  55.,   0.,   1., 101.,   2.,   1.,  16., 140.,\n",
              "        23., 113.,  10.,   1.,  41.,   1.,  28.,   2.,  22.,  29.,   1.,\n",
              "        25., 102.,   0.,  27.,  40.])"
            ]
          },
          "metadata": {
            "tags": []
          },
          "execution_count": 26
        }
      ]
    },
    {
      "cell_type": "markdown",
      "metadata": {
        "id": "A60RYsS-3XaO"
      },
      "source": [
        "### Problem 3"
      ]
    },
    {
      "cell_type": "code",
      "metadata": {
        "colab": {
          "base_uri": "https://localhost:8080/"
        },
        "id": "jNMipFzC3CHF",
        "outputId": "d01a7ab2-dd2d-4429-a109-f8a7d37f162d"
      },
      "source": [
        "cric_data_sachin.shape"
      ],
      "execution_count": null,
      "outputs": [
        {
          "output_type": "execute_result",
          "data": {
            "text/plain": [
              "(225,)"
            ]
          },
          "metadata": {
            "tags": []
          },
          "execution_count": 27
        }
      ]
    },
    {
      "cell_type": "code",
      "metadata": {
        "id": "y8yZ64Dd3eMT"
      },
      "source": [
        "sachin_by_25s = cric_data_sachin.reshape((9, 25))"
      ],
      "execution_count": null,
      "outputs": []
    },
    {
      "cell_type": "code",
      "metadata": {
        "colab": {
          "base_uri": "https://localhost:8080/"
        },
        "id": "t6RoyPtt3_W0",
        "outputId": "5644f1d9-c49c-421f-9f21-f1604cd16d31"
      },
      "source": [
        "np.mean(sachin_by_25s, axis = 1)"
      ],
      "execution_count": null,
      "outputs": [
        {
          "output_type": "execute_result",
          "data": {
            "text/plain": [
              "array([33.96, 49.4 , 38.48, 40.16, 39.36, 38.2 , 44.6 , 39.52, 35.2 ])"
            ]
          },
          "metadata": {
            "tags": []
          },
          "execution_count": 29
        }
      ]
    },
    {
      "cell_type": "markdown",
      "metadata": {
        "id": "BrfxQWvW4nI6"
      },
      "source": [
        "### Problem 4, 5"
      ]
    },
    {
      "cell_type": "code",
      "metadata": {
        "colab": {
          "base_uri": "https://localhost:8080/"
        },
        "id": "OJfMh3EU4H5G",
        "outputId": "bf85ef7a-e84c-41af-c263-9dc7fcdfcdce"
      },
      "source": [
        "cric_data_sachin >=100"
      ],
      "execution_count": null,
      "outputs": [
        {
          "output_type": "execute_result",
          "data": {
            "text/plain": [
              "array([ True, False, False, False,  True, False, False, False, False,\n",
              "       False, False, False, False, False, False, False, False, False,\n",
              "       False, False, False, False,  True, False, False, False, False,\n",
              "       False, False, False,  True, False, False, False, False, False,\n",
              "       False,  True, False, False, False, False, False, False,  True,\n",
              "       False, False,  True, False, False, False, False, False, False,\n",
              "       False, False,  True,  True, False, False, False, False, False,\n",
              "       False,  True, False, False, False,  True, False, False, False,\n",
              "       False, False, False, False, False, False, False, False, False,\n",
              "       False, False, False, False, False, False, False, False, False,\n",
              "       False, False, False, False,  True, False, False, False, False,\n",
              "       False, False, False, False, False, False, False, False, False,\n",
              "       False, False, False, False, False, False, False,  True,  True,\n",
              "       False, False, False, False, False, False, False, False, False,\n",
              "       False, False, False, False, False, False, False, False,  True,\n",
              "       False, False, False, False, False, False, False, False, False,\n",
              "       False, False, False, False,  True, False, False, False, False,\n",
              "       False, False, False, False, False, False,  True, False, False,\n",
              "       False, False, False, False,  True, False, False, False, False,\n",
              "       False, False, False, False,  True, False,  True, False, False,\n",
              "       False,  True,  True, False, False, False, False, False, False,\n",
              "       False, False, False, False, False, False, False, False, False,\n",
              "       False, False, False, False, False, False,  True, False, False,\n",
              "       False,  True, False,  True, False, False, False, False, False,\n",
              "       False, False, False, False, False,  True, False, False, False])"
            ]
          },
          "metadata": {
            "tags": []
          },
          "execution_count": 30
        }
      ]
    },
    {
      "cell_type": "code",
      "metadata": {
        "colab": {
          "base_uri": "https://localhost:8080/"
        },
        "id": "X-Aba68y4uXY",
        "outputId": "9c828a9e-3d4b-4343-ee21-183eb600a889"
      },
      "source": [
        "np.mean(cric_data_sachin[cric_data_sachin >= 100])"
      ],
      "execution_count": null,
      "outputs": [
        {
          "output_type": "execute_result",
          "data": {
            "text/plain": [
              "125.0"
            ]
          },
          "metadata": {
            "tags": []
          },
          "execution_count": 32
        }
      ]
    },
    {
      "cell_type": "code",
      "metadata": {
        "colab": {
          "base_uri": "https://localhost:8080/"
        },
        "id": "KjRh9uLI45hL",
        "outputId": "a9e96054-0a5f-43a6-bc7e-6d21f8a7bab5"
      },
      "source": [
        "np.mean(cric_data_sachin[cric_data_rahul < 10])"
      ],
      "execution_count": null,
      "outputs": [
        {
          "output_type": "execute_result",
          "data": {
            "text/plain": [
              "40.74285714285714"
            ]
          },
          "metadata": {
            "tags": []
          },
          "execution_count": 33
        }
      ]
    },
    {
      "cell_type": "markdown",
      "metadata": {
        "id": "D2MYXQNLY5RB"
      },
      "source": [
        "### Problem 6"
      ]
    },
    {
      "cell_type": "code",
      "metadata": {
        "id": "uksxfUlT5M3d"
      },
      "source": [
        "qrt = np.percentile(cric_data_india, [25, 50, 75, 100])"
      ],
      "execution_count": null,
      "outputs": []
    },
    {
      "cell_type": "markdown",
      "metadata": {
        "id": "hTSthGnSaF5P"
      },
      "source": [
        "If India's Score is less than 175 then what is Sachin's average\r\n",
        "If India's Score is less than 216 then what is Sachin's average"
      ]
    },
    {
      "cell_type": "code",
      "metadata": {
        "id": "ENJSJOoQZnFP"
      },
      "source": [
        "india_first_qrt = np.percentile(cric_data_india, [25])"
      ],
      "execution_count": null,
      "outputs": []
    },
    {
      "cell_type": "code",
      "metadata": {
        "colab": {
          "base_uri": "https://localhost:8080/"
        },
        "id": "lzakn3fmgFkP",
        "outputId": "6f3ebc9d-fdc8-4266-c313-22b02041d8d7"
      },
      "source": [
        "india_first_qrt"
      ],
      "execution_count": null,
      "outputs": [
        {
          "output_type": "execute_result",
          "data": {
            "text/plain": [
              "array([175.])"
            ]
          },
          "metadata": {
            "tags": []
          },
          "execution_count": 68
        }
      ]
    },
    {
      "cell_type": "code",
      "metadata": {
        "colab": {
          "base_uri": "https://localhost:8080/"
        },
        "id": "m_rhtsmRgSwa",
        "outputId": "9655d4d6-f5c5-4329-f973-e066c7352d63"
      },
      "source": [
        "type(india_first_qrt)"
      ],
      "execution_count": null,
      "outputs": [
        {
          "output_type": "execute_result",
          "data": {
            "text/plain": [
              "numpy.ndarray"
            ]
          },
          "metadata": {
            "tags": []
          },
          "execution_count": 28
        }
      ]
    },
    {
      "cell_type": "code",
      "metadata": {
        "colab": {
          "base_uri": "https://localhost:8080/"
        },
        "id": "BFRH-DAVgr7B",
        "outputId": "2462d52b-d921-488d-e410-f6cfff0c9161"
      },
      "source": [
        "cric_data_sachin > india_first_qrt"
      ],
      "execution_count": null,
      "outputs": [
        {
          "output_type": "execute_result",
          "data": {
            "text/plain": [
              "array([False, False, False, False, False, False, False, False, False,\n",
              "       False, False, False, False, False, False, False, False, False,\n",
              "       False, False, False, False, False, False, False, False, False,\n",
              "       False, False, False, False, False, False, False, False, False,\n",
              "       False,  True, False, False, False, False, False, False, False,\n",
              "       False, False, False, False, False, False, False, False, False,\n",
              "       False, False, False, False, False, False, False, False, False,\n",
              "       False, False, False, False, False, False, False, False, False,\n",
              "       False, False, False, False, False, False, False, False, False,\n",
              "       False, False, False, False, False, False, False, False, False,\n",
              "       False, False, False, False, False, False, False, False, False,\n",
              "       False, False, False, False, False, False, False, False, False,\n",
              "       False, False, False, False, False, False, False, False, False,\n",
              "       False, False, False, False, False, False, False, False, False,\n",
              "       False, False, False, False, False, False, False, False, False,\n",
              "       False, False, False, False, False, False, False, False, False,\n",
              "       False, False, False, False, False, False, False, False, False,\n",
              "       False, False, False, False, False, False, False, False, False,\n",
              "       False, False, False, False, False, False, False, False, False,\n",
              "       False, False, False, False, False, False, False, False, False,\n",
              "       False, False, False, False, False, False, False, False, False,\n",
              "       False, False, False, False, False, False, False, False, False,\n",
              "       False, False, False, False, False, False, False, False, False,\n",
              "       False, False, False, False, False, False, False, False, False,\n",
              "       False, False, False, False, False, False, False, False, False])"
            ]
          },
          "metadata": {
            "tags": []
          },
          "execution_count": 67
        }
      ]
    },
    {
      "cell_type": "code",
      "metadata": {
        "id": "6BKlbKmShR7V"
      },
      "source": [
        "temp = np.array([\r\n",
        "          [\r\n",
        "           [1],\r\n",
        "           [2]\r\n",
        "           ],\r\n",
        "          [\r\n",
        "           [3],\r\n",
        "           [4]\r\n",
        "           ]\r\n",
        "])"
      ],
      "execution_count": null,
      "outputs": []
    },
    {
      "cell_type": "code",
      "metadata": {
        "colab": {
          "base_uri": "https://localhost:8080/"
        },
        "id": "JpOkJKlRjEbc",
        "outputId": "e6ca95a7-9ca3-4810-d522-1e9ad47049f4"
      },
      "source": [
        "temp.shape"
      ],
      "execution_count": null,
      "outputs": [
        {
          "output_type": "execute_result",
          "data": {
            "text/plain": [
              "(2, 2, 1)"
            ]
          },
          "metadata": {
            "tags": []
          },
          "execution_count": 54
        }
      ]
    },
    {
      "cell_type": "code",
      "metadata": {
        "id": "J3k1qgZ8jJsZ"
      },
      "source": [
        "temp2 = np.array([\r\n",
        "         [1,2],\r\n",
        "         [3,4]\r\n",
        "])"
      ],
      "execution_count": null,
      "outputs": []
    },
    {
      "cell_type": "code",
      "metadata": {
        "colab": {
          "base_uri": "https://localhost:8080/"
        },
        "id": "NSNziRcgkqV9",
        "outputId": "7d2317e0-5d43-43cc-ed73-7f6ae5d71525"
      },
      "source": [
        "temp2.shape"
      ],
      "execution_count": null,
      "outputs": [
        {
          "output_type": "execute_result",
          "data": {
            "text/plain": [
              "(2, 2)"
            ]
          },
          "metadata": {
            "tags": []
          },
          "execution_count": 60
        }
      ]
    },
    {
      "cell_type": "code",
      "metadata": {
        "id": "0aOTUyzDkrol"
      },
      "source": [
        "temp3 = temp + temp2"
      ],
      "execution_count": null,
      "outputs": []
    },
    {
      "cell_type": "code",
      "metadata": {
        "colab": {
          "base_uri": "https://localhost:8080/"
        },
        "id": "Ql7xEzJKk0b9",
        "outputId": "dffc02b4-918a-46d7-a089-78ca4622ef41"
      },
      "source": [
        "temp3.shape"
      ],
      "execution_count": null,
      "outputs": [
        {
          "output_type": "execute_result",
          "data": {
            "text/plain": [
              "(2, 2, 2)"
            ]
          },
          "metadata": {
            "tags": []
          },
          "execution_count": 64
        }
      ]
    },
    {
      "cell_type": "code",
      "metadata": {
        "colab": {
          "base_uri": "https://localhost:8080/"
        },
        "id": "20VQeOP3k87C",
        "outputId": "7b5c1f53-3743-4290-94fb-19681c895ea7"
      },
      "source": [
        "temp3"
      ],
      "execution_count": null,
      "outputs": [
        {
          "output_type": "execute_result",
          "data": {
            "text/plain": [
              "array([[[2, 3],\n",
              "        [5, 6]],\n",
              "\n",
              "       [[4, 5],\n",
              "        [7, 8]]])"
            ]
          },
          "metadata": {
            "tags": []
          },
          "execution_count": 66
        }
      ]
    },
    {
      "cell_type": "code",
      "metadata": {
        "id": "4XFuVIbHlzey"
      },
      "source": [
        "india_all_qtr = np.percentile(cric_data_india, [25, 50, 75, 100])"
      ],
      "execution_count": null,
      "outputs": []
    },
    {
      "cell_type": "code",
      "metadata": {
        "colab": {
          "base_uri": "https://localhost:8080/"
        },
        "id": "FCuR42HnoZ05",
        "outputId": "939d4a88-563d-4150-ccf8-c6f0f57fa558"
      },
      "source": [
        "india_all_qtr"
      ],
      "execution_count": null,
      "outputs": [
        {
          "output_type": "execute_result",
          "data": {
            "text/plain": [
              "array([175., 216., 273., 499.])"
            ]
          },
          "metadata": {
            "tags": []
          },
          "execution_count": 70
        }
      ]
    },
    {
      "cell_type": "code",
      "metadata": {
        "colab": {
          "base_uri": "https://localhost:8080/",
          "height": 172
        },
        "id": "B2NnbP2Wobth",
        "outputId": "38a701ac-2ae6-4890-c1c8-f23bfaf28803"
      },
      "source": [
        "cric_data_india > india_all_qtr"
      ],
      "execution_count": null,
      "outputs": [
        {
          "output_type": "error",
          "ename": "ValueError",
          "evalue": "ignored",
          "traceback": [
            "\u001b[0;31m---------------------------------------------------------------------------\u001b[0m",
            "\u001b[0;31mValueError\u001b[0m                                Traceback (most recent call last)",
            "\u001b[0;32m<ipython-input-71-a13c8ade947e>\u001b[0m in \u001b[0;36m<module>\u001b[0;34m()\u001b[0m\n\u001b[0;32m----> 1\u001b[0;31m \u001b[0mcric_data_india\u001b[0m \u001b[0;34m>\u001b[0m \u001b[0mindia_all_qtr\u001b[0m\u001b[0;34m\u001b[0m\u001b[0;34m\u001b[0m\u001b[0m\n\u001b[0m",
            "\u001b[0;31mValueError\u001b[0m: operands could not be broadcast together with shapes (225,) (4,) "
          ]
        }
      ]
    },
    {
      "cell_type": "code",
      "metadata": {
        "colab": {
          "base_uri": "https://localhost:8080/"
        },
        "id": "mAwoe0AEogeE",
        "outputId": "2ff1db0c-0e58-4207-9269-9f817f644bd8"
      },
      "source": [
        "india_all_qtr.shape"
      ],
      "execution_count": null,
      "outputs": [
        {
          "output_type": "execute_result",
          "data": {
            "text/plain": [
              "(4,)"
            ]
          },
          "metadata": {
            "tags": []
          },
          "execution_count": 72
        }
      ]
    },
    {
      "cell_type": "code",
      "metadata": {
        "colab": {
          "base_uri": "https://localhost:8080/"
        },
        "id": "gwOz3DL4oq_v",
        "outputId": "dc68f5b1-fed3-4f10-9a01-4a209ae31002"
      },
      "source": [
        "cric_data_india.shape"
      ],
      "execution_count": null,
      "outputs": [
        {
          "output_type": "execute_result",
          "data": {
            "text/plain": [
              "(225,)"
            ]
          },
          "metadata": {
            "tags": []
          },
          "execution_count": 73
        }
      ]
    },
    {
      "cell_type": "code",
      "metadata": {
        "id": "W7g8FLNbou31"
      },
      "source": [
        "temp4 = np.array([1,2,3,4,5])"
      ],
      "execution_count": null,
      "outputs": []
    },
    {
      "cell_type": "code",
      "metadata": {
        "colab": {
          "base_uri": "https://localhost:8080/"
        },
        "id": "soSbkuXWpDCg",
        "outputId": "0e1bc350-012d-4957-fc3b-48f70d0266a2"
      },
      "source": [
        "temp4.shape"
      ],
      "execution_count": null,
      "outputs": [
        {
          "output_type": "execute_result",
          "data": {
            "text/plain": [
              "(5,)"
            ]
          },
          "metadata": {
            "tags": []
          },
          "execution_count": 77
        }
      ]
    },
    {
      "cell_type": "code",
      "metadata": {
        "colab": {
          "base_uri": "https://localhost:8080/"
        },
        "id": "IiZ5ASFEpFqO",
        "outputId": "20a49478-b8e6-4d38-d167-6e2c2a382872"
      },
      "source": [
        "temp4.reshape((5,1))"
      ],
      "execution_count": null,
      "outputs": [
        {
          "output_type": "execute_result",
          "data": {
            "text/plain": [
              "array([[1],\n",
              "       [2],\n",
              "       [3],\n",
              "       [4],\n",
              "       [5]])"
            ]
          },
          "metadata": {
            "tags": []
          },
          "execution_count": 78
        }
      ]
    },
    {
      "cell_type": "code",
      "metadata": {
        "id": "jeXQgqHIpusd"
      },
      "source": [
        "india_all_qtr = india_all_qtr.reshape((4, 1))"
      ],
      "execution_count": null,
      "outputs": []
    },
    {
      "cell_type": "code",
      "metadata": {
        "colab": {
          "base_uri": "https://localhost:8080/"
        },
        "id": "AGqHeyLarxrC",
        "outputId": "37056915-9e3a-42ef-ca1f-7cd55ea96819"
      },
      "source": [
        "cric_data_sachin < india_all_qtr"
      ],
      "execution_count": null,
      "outputs": [
        {
          "output_type": "execute_result",
          "data": {
            "text/plain": [
              "array([[ True,  True,  True,  True,  True,  True,  True,  True,  True,\n",
              "         True,  True,  True,  True,  True,  True,  True,  True,  True,\n",
              "         True,  True,  True,  True,  True,  True,  True,  True,  True,\n",
              "         True,  True,  True,  True,  True,  True,  True,  True,  True,\n",
              "         True, False,  True,  True,  True,  True,  True,  True,  True,\n",
              "         True,  True,  True,  True,  True,  True,  True,  True,  True,\n",
              "         True,  True,  True,  True,  True,  True,  True,  True,  True,\n",
              "         True,  True,  True,  True,  True,  True,  True,  True,  True,\n",
              "         True,  True,  True,  True,  True,  True,  True,  True,  True,\n",
              "         True,  True,  True,  True,  True,  True,  True,  True,  True,\n",
              "         True,  True,  True,  True,  True,  True,  True,  True,  True,\n",
              "         True,  True,  True,  True,  True,  True,  True,  True,  True,\n",
              "         True,  True,  True,  True,  True,  True,  True,  True,  True,\n",
              "         True,  True,  True,  True,  True,  True,  True,  True,  True,\n",
              "         True,  True,  True,  True,  True,  True,  True,  True,  True,\n",
              "         True,  True,  True,  True,  True,  True,  True,  True,  True,\n",
              "         True,  True,  True,  True,  True,  True,  True,  True,  True,\n",
              "         True,  True,  True,  True,  True,  True,  True,  True,  True,\n",
              "         True,  True,  True,  True,  True,  True,  True,  True,  True,\n",
              "         True,  True,  True,  True,  True,  True,  True,  True,  True,\n",
              "         True,  True,  True,  True,  True,  True,  True,  True,  True,\n",
              "         True,  True,  True,  True,  True,  True,  True,  True,  True,\n",
              "         True,  True,  True,  True,  True,  True,  True,  True,  True,\n",
              "         True,  True,  True,  True,  True,  True,  True,  True,  True,\n",
              "         True,  True,  True,  True,  True,  True,  True,  True,  True],\n",
              "       [ True,  True,  True,  True,  True,  True,  True,  True,  True,\n",
              "         True,  True,  True,  True,  True,  True,  True,  True,  True,\n",
              "         True,  True,  True,  True,  True,  True,  True,  True,  True,\n",
              "         True,  True,  True,  True,  True,  True,  True,  True,  True,\n",
              "         True,  True,  True,  True,  True,  True,  True,  True,  True,\n",
              "         True,  True,  True,  True,  True,  True,  True,  True,  True,\n",
              "         True,  True,  True,  True,  True,  True,  True,  True,  True,\n",
              "         True,  True,  True,  True,  True,  True,  True,  True,  True,\n",
              "         True,  True,  True,  True,  True,  True,  True,  True,  True,\n",
              "         True,  True,  True,  True,  True,  True,  True,  True,  True,\n",
              "         True,  True,  True,  True,  True,  True,  True,  True,  True,\n",
              "         True,  True,  True,  True,  True,  True,  True,  True,  True,\n",
              "         True,  True,  True,  True,  True,  True,  True,  True,  True,\n",
              "         True,  True,  True,  True,  True,  True,  True,  True,  True,\n",
              "         True,  True,  True,  True,  True,  True,  True,  True,  True,\n",
              "         True,  True,  True,  True,  True,  True,  True,  True,  True,\n",
              "         True,  True,  True,  True,  True,  True,  True,  True,  True,\n",
              "         True,  True,  True,  True,  True,  True,  True,  True,  True,\n",
              "         True,  True,  True,  True,  True,  True,  True,  True,  True,\n",
              "         True,  True,  True,  True,  True,  True,  True,  True,  True,\n",
              "         True,  True,  True,  True,  True,  True,  True,  True,  True,\n",
              "         True,  True,  True,  True,  True,  True,  True,  True,  True,\n",
              "         True,  True,  True,  True,  True,  True,  True,  True,  True,\n",
              "         True,  True,  True,  True,  True,  True,  True,  True,  True,\n",
              "         True,  True,  True,  True,  True,  True,  True,  True,  True],\n",
              "       [ True,  True,  True,  True,  True,  True,  True,  True,  True,\n",
              "         True,  True,  True,  True,  True,  True,  True,  True,  True,\n",
              "         True,  True,  True,  True,  True,  True,  True,  True,  True,\n",
              "         True,  True,  True,  True,  True,  True,  True,  True,  True,\n",
              "         True,  True,  True,  True,  True,  True,  True,  True,  True,\n",
              "         True,  True,  True,  True,  True,  True,  True,  True,  True,\n",
              "         True,  True,  True,  True,  True,  True,  True,  True,  True,\n",
              "         True,  True,  True,  True,  True,  True,  True,  True,  True,\n",
              "         True,  True,  True,  True,  True,  True,  True,  True,  True,\n",
              "         True,  True,  True,  True,  True,  True,  True,  True,  True,\n",
              "         True,  True,  True,  True,  True,  True,  True,  True,  True,\n",
              "         True,  True,  True,  True,  True,  True,  True,  True,  True,\n",
              "         True,  True,  True,  True,  True,  True,  True,  True,  True,\n",
              "         True,  True,  True,  True,  True,  True,  True,  True,  True,\n",
              "         True,  True,  True,  True,  True,  True,  True,  True,  True,\n",
              "         True,  True,  True,  True,  True,  True,  True,  True,  True,\n",
              "         True,  True,  True,  True,  True,  True,  True,  True,  True,\n",
              "         True,  True,  True,  True,  True,  True,  True,  True,  True,\n",
              "         True,  True,  True,  True,  True,  True,  True,  True,  True,\n",
              "         True,  True,  True,  True,  True,  True,  True,  True,  True,\n",
              "         True,  True,  True,  True,  True,  True,  True,  True,  True,\n",
              "         True,  True,  True,  True,  True,  True,  True,  True,  True,\n",
              "         True,  True,  True,  True,  True,  True,  True,  True,  True,\n",
              "         True,  True,  True,  True,  True,  True,  True,  True,  True,\n",
              "         True,  True,  True,  True,  True,  True,  True,  True,  True],\n",
              "       [ True,  True,  True,  True,  True,  True,  True,  True,  True,\n",
              "         True,  True,  True,  True,  True,  True,  True,  True,  True,\n",
              "         True,  True,  True,  True,  True,  True,  True,  True,  True,\n",
              "         True,  True,  True,  True,  True,  True,  True,  True,  True,\n",
              "         True,  True,  True,  True,  True,  True,  True,  True,  True,\n",
              "         True,  True,  True,  True,  True,  True,  True,  True,  True,\n",
              "         True,  True,  True,  True,  True,  True,  True,  True,  True,\n",
              "         True,  True,  True,  True,  True,  True,  True,  True,  True,\n",
              "         True,  True,  True,  True,  True,  True,  True,  True,  True,\n",
              "         True,  True,  True,  True,  True,  True,  True,  True,  True,\n",
              "         True,  True,  True,  True,  True,  True,  True,  True,  True,\n",
              "         True,  True,  True,  True,  True,  True,  True,  True,  True,\n",
              "         True,  True,  True,  True,  True,  True,  True,  True,  True,\n",
              "         True,  True,  True,  True,  True,  True,  True,  True,  True,\n",
              "         True,  True,  True,  True,  True,  True,  True,  True,  True,\n",
              "         True,  True,  True,  True,  True,  True,  True,  True,  True,\n",
              "         True,  True,  True,  True,  True,  True,  True,  True,  True,\n",
              "         True,  True,  True,  True,  True,  True,  True,  True,  True,\n",
              "         True,  True,  True,  True,  True,  True,  True,  True,  True,\n",
              "         True,  True,  True,  True,  True,  True,  True,  True,  True,\n",
              "         True,  True,  True,  True,  True,  True,  True,  True,  True,\n",
              "         True,  True,  True,  True,  True,  True,  True,  True,  True,\n",
              "         True,  True,  True,  True,  True,  True,  True,  True,  True,\n",
              "         True,  True,  True,  True,  True,  True,  True,  True,  True,\n",
              "         True,  True,  True,  True,  True,  True,  True,  True,  True]])"
            ]
          },
          "metadata": {
            "tags": []
          },
          "execution_count": 89
        }
      ]
    },
    {
      "cell_type": "code",
      "metadata": {
        "colab": {
          "base_uri": "https://localhost:8080/"
        },
        "id": "u5ab-cbAr2eG",
        "outputId": "1060a529-dbb7-4eae-ad85-786f5ad3b530"
      },
      "source": [
        "temp5.shape"
      ],
      "execution_count": null,
      "outputs": [
        {
          "output_type": "execute_result",
          "data": {
            "text/plain": [
              "(4, 225)"
            ]
          },
          "metadata": {
            "tags": []
          },
          "execution_count": 87
        }
      ]
    },
    {
      "cell_type": "code",
      "metadata": {
        "colab": {
          "base_uri": "https://localhost:8080/"
        },
        "id": "XVmlt6KgsHVS",
        "outputId": "232e972a-1ecc-4a8d-c0a2-208b3122a302"
      },
      "source": [
        "temp5"
      ],
      "execution_count": null,
      "outputs": [
        {
          "output_type": "execute_result",
          "data": {
            "text/plain": [
              "array([[False, False, False, False, False, False, False, False, False,\n",
              "        False,  True, False, False, False,  True, False, False,  True,\n",
              "        False, False,  True, False, False, False, False,  True,  True,\n",
              "         True,  True,  True, False, False, False, False, False, False,\n",
              "         True, False,  True, False, False, False, False, False, False,\n",
              "        False, False, False, False,  True,  True, False, False, False,\n",
              "         True, False, False, False, False,  True, False, False, False,\n",
              "        False, False,  True, False, False, False,  True, False, False,\n",
              "        False, False, False, False, False, False,  True, False,  True,\n",
              "         True, False, False, False, False, False,  True, False, False,\n",
              "        False, False,  True, False, False, False, False, False, False,\n",
              "        False,  True,  True,  True, False, False, False, False, False,\n",
              "        False, False,  True,  True, False, False, False, False, False,\n",
              "        False, False, False, False, False,  True, False, False,  True,\n",
              "         True, False, False, False,  True,  True, False, False, False,\n",
              "        False, False,  True, False,  True, False, False, False, False,\n",
              "         True, False, False, False, False, False, False, False, False,\n",
              "        False, False, False,  True, False, False, False, False,  True,\n",
              "        False, False, False,  True, False, False, False, False,  True,\n",
              "        False,  True,  True, False, False, False, False, False, False,\n",
              "         True, False, False,  True, False,  True,  True,  True,  True,\n",
              "        False,  True, False, False, False, False, False, False, False,\n",
              "        False,  True, False, False,  True, False, False, False, False,\n",
              "        False, False,  True, False, False, False, False,  True, False,\n",
              "         True, False, False, False,  True, False,  True, False, False],\n",
              "       [False,  True, False, False, False, False, False, False, False,\n",
              "        False,  True, False, False, False,  True, False,  True,  True,\n",
              "         True, False,  True, False, False, False,  True,  True,  True,\n",
              "         True,  True,  True, False, False, False, False, False, False,\n",
              "         True, False,  True, False, False, False, False, False, False,\n",
              "         True, False, False, False,  True,  True,  True, False,  True,\n",
              "         True,  True, False, False,  True,  True, False, False,  True,\n",
              "        False, False,  True, False, False,  True,  True, False, False,\n",
              "        False, False, False, False, False,  True,  True,  True,  True,\n",
              "         True,  True,  True, False,  True,  True,  True, False, False,\n",
              "        False, False,  True,  True, False, False, False,  True,  True,\n",
              "        False,  True,  True,  True, False, False, False,  True, False,\n",
              "        False, False,  True,  True, False,  True,  True, False, False,\n",
              "        False, False,  True, False, False,  True, False,  True,  True,\n",
              "         True, False,  True, False,  True,  True,  True,  True, False,\n",
              "        False,  True,  True, False,  True, False,  True,  True, False,\n",
              "         True, False,  True, False,  True, False,  True,  True, False,\n",
              "        False,  True,  True,  True, False, False, False, False,  True,\n",
              "        False, False,  True,  True, False, False, False, False,  True,\n",
              "        False,  True,  True,  True, False, False,  True,  True,  True,\n",
              "         True,  True, False,  True,  True,  True,  True,  True,  True,\n",
              "        False,  True,  True, False, False, False, False, False,  True,\n",
              "         True,  True, False,  True,  True,  True,  True, False, False,\n",
              "        False, False,  True, False, False,  True,  True,  True,  True,\n",
              "         True,  True, False, False,  True, False,  True,  True,  True],\n",
              "       [False,  True,  True, False,  True,  True,  True, False,  True,\n",
              "         True,  True, False, False, False,  True,  True,  True,  True,\n",
              "         True,  True,  True,  True, False,  True,  True,  True,  True,\n",
              "         True,  True,  True, False,  True,  True,  True,  True, False,\n",
              "         True, False,  True, False, False,  True, False, False,  True,\n",
              "         True,  True, False,  True,  True,  True,  True, False,  True,\n",
              "         True,  True, False, False,  True,  True,  True, False,  True,\n",
              "         True,  True,  True, False,  True,  True,  True,  True, False,\n",
              "         True,  True,  True,  True,  True,  True,  True,  True,  True,\n",
              "         True,  True,  True,  True,  True,  True,  True, False,  True,\n",
              "        False,  True,  True,  True, False,  True, False,  True,  True,\n",
              "        False,  True,  True,  True,  True, False, False,  True,  True,\n",
              "         True, False,  True,  True,  True,  True,  True, False,  True,\n",
              "        False,  True,  True, False,  True,  True, False,  True,  True,\n",
              "         True,  True,  True,  True,  True,  True,  True,  True,  True,\n",
              "        False,  True,  True, False,  True,  True,  True,  True, False,\n",
              "         True, False,  True,  True,  True, False,  True,  True,  True,\n",
              "        False,  True,  True,  True,  True,  True, False,  True,  True,\n",
              "         True, False,  True,  True, False, False, False,  True,  True,\n",
              "         True,  True,  True,  True,  True, False,  True,  True,  True,\n",
              "         True,  True, False,  True,  True,  True,  True,  True,  True,\n",
              "         True,  True,  True, False, False, False, False, False,  True,\n",
              "         True,  True, False,  True,  True,  True,  True, False,  True,\n",
              "         True, False,  True, False, False,  True,  True,  True,  True,\n",
              "         True,  True,  True, False,  True, False,  True,  True,  True],\n",
              "       [ True,  True,  True,  True,  True,  True,  True,  True,  True,\n",
              "         True,  True,  True,  True,  True,  True,  True,  True,  True,\n",
              "         True,  True,  True,  True,  True,  True,  True,  True,  True,\n",
              "         True,  True,  True,  True,  True,  True,  True,  True,  True,\n",
              "         True,  True,  True,  True,  True,  True,  True,  True,  True,\n",
              "         True,  True,  True,  True,  True,  True,  True,  True,  True,\n",
              "         True,  True,  True,  True,  True,  True,  True,  True,  True,\n",
              "         True,  True,  True,  True,  True,  True,  True,  True, False,\n",
              "         True,  True,  True,  True,  True,  True,  True,  True,  True,\n",
              "         True,  True,  True,  True,  True,  True,  True,  True,  True,\n",
              "         True,  True,  True,  True,  True,  True,  True,  True,  True,\n",
              "         True,  True,  True,  True,  True,  True,  True,  True,  True,\n",
              "         True,  True,  True,  True,  True,  True,  True,  True,  True,\n",
              "         True,  True,  True,  True,  True,  True,  True,  True,  True,\n",
              "         True,  True,  True,  True,  True,  True,  True,  True,  True,\n",
              "         True,  True,  True,  True,  True,  True,  True,  True,  True,\n",
              "         True,  True,  True,  True,  True,  True,  True,  True,  True,\n",
              "         True,  True,  True,  True,  True,  True,  True,  True,  True,\n",
              "         True,  True,  True,  True,  True,  True,  True,  True,  True,\n",
              "         True,  True,  True,  True,  True,  True,  True,  True,  True,\n",
              "         True,  True,  True,  True,  True,  True,  True,  True,  True,\n",
              "         True,  True,  True,  True,  True,  True,  True,  True,  True,\n",
              "         True,  True,  True,  True,  True,  True,  True,  True,  True,\n",
              "         True,  True,  True,  True,  True,  True,  True,  True,  True,\n",
              "         True,  True,  True,  True,  True,  True,  True,  True,  True]])"
            ]
          },
          "metadata": {
            "tags": []
          },
          "execution_count": 88
        }
      ]
    },
    {
      "cell_type": "code",
      "metadata": {
        "id": "kwf4rhuIvDvD"
      },
      "source": [
        "indices  = cric_data_india < india_all_qtr"
      ],
      "execution_count": null,
      "outputs": []
    },
    {
      "cell_type": "code",
      "metadata": {
        "colab": {
          "base_uri": "https://localhost:8080/"
        },
        "id": "NyLddCSRxBLK",
        "outputId": "2e1c7e80-5f40-42b1-86b6-415a5e849965"
      },
      "source": [
        "indices.shape"
      ],
      "execution_count": null,
      "outputs": [
        {
          "output_type": "execute_result",
          "data": {
            "text/plain": [
              "(4, 225)"
            ]
          },
          "metadata": {
            "tags": []
          },
          "execution_count": 100
        }
      ]
    },
    {
      "cell_type": "code",
      "metadata": {
        "id": "kxR9ah0fxDF7"
      },
      "source": [
        "sachin_when_india_less_than_first_qtr = cric_data_sachin[indices[0,:]]"
      ],
      "execution_count": null,
      "outputs": []
    },
    {
      "cell_type": "code",
      "metadata": {
        "colab": {
          "base_uri": "https://localhost:8080/"
        },
        "id": "umRvovM1xWZK",
        "outputId": "cc7d3abc-fd84-48e7-88bd-f2bf140934b2"
      },
      "source": [
        "sachin_when_india_less_than_first_qtr"
      ],
      "execution_count": null,
      "outputs": [
        {
          "output_type": "execute_result",
          "data": {
            "text/plain": [
              "array([18., 14.,  0., 62., 46., 65.,  0., 39., 48.,  3., 11., 65., 27.,\n",
              "       28.,  3.,  4., 15., 40.,  5.,  8., 89.,  0.,  0.,  1.,  0.,  0.,\n",
              "       81., 13.,  2., 36., 12., 19.,  0.,  6., 35.,  0., 44.,  3., 47.,\n",
              "       17., 35., 33.,  7.,  9.,  2., 11., 17.,  1., 10.,  0., 23.,  1.,\n",
              "        2., 25.,  0.])"
            ]
          },
          "metadata": {
            "tags": []
          },
          "execution_count": 102
        }
      ]
    },
    {
      "cell_type": "code",
      "metadata": {
        "colab": {
          "base_uri": "https://localhost:8080/"
        },
        "id": "eAEdHvdAxXvb",
        "outputId": "95e46dfd-c7f6-4f2a-dc87-62dbaadaac8d"
      },
      "source": [
        "for i in range(4):\r\n",
        "  print (\"i\", np.mean(cric_data_sachin[indices[i]]))"
      ],
      "execution_count": null,
      "outputs": [
        {
          "output_type": "stream",
          "text": [
            "i 19.672727272727272\n",
            "i 28.18018018018018\n",
            "i 31.688622754491018\n",
            "i 39.799107142857146\n"
          ],
          "name": "stdout"
        }
      ]
    },
    {
      "cell_type": "markdown",
      "metadata": {
        "id": "sRDZOUwQx-cJ"
      },
      "source": [
        "### Problem 8"
      ]
    },
    {
      "cell_type": "code",
      "metadata": {
        "id": "Wj8VYTd8xm0g"
      },
      "source": [
        "hasRahulScoredGreaterThanSachin = cric_data_rahul > cric_data_sachin"
      ],
      "execution_count": null,
      "outputs": []
    },
    {
      "cell_type": "code",
      "metadata": {
        "colab": {
          "base_uri": "https://localhost:8080/"
        },
        "id": "dL7x8XjeylSe",
        "outputId": "81e1c4d5-6506-4331-83a6-129e90893787"
      },
      "source": [
        "np.sum(hasRahulScoredGreaterThanSachin) / cric_data_india.size"
      ],
      "execution_count": null,
      "outputs": [
        {
          "output_type": "execute_result",
          "data": {
            "text/plain": [
              "0.4711111111111111"
            ]
          },
          "metadata": {
            "tags": []
          },
          "execution_count": 112
        }
      ]
    },
    {
      "cell_type": "code",
      "metadata": {
        "id": "7Lt4_e2mypYy"
      },
      "source": [
        ""
      ],
      "execution_count": null,
      "outputs": []
    },
    {
      "cell_type": "markdown",
      "metadata": {
        "id": "ak0U1eQQeLmH"
      },
      "source": [
        "### Problem 10"
      ]
    },
    {
      "cell_type": "markdown",
      "metadata": {
        "id": "-IU6wYuBgcq_"
      },
      "source": [
        "Take cumulative sum using np.cumsum and  then use histogram using custom bin sizes"
      ]
    },
    {
      "cell_type": "code",
      "metadata": {
        "id": "3YAw2Nw8gn-B"
      },
      "source": [
        "sachin_cum = np.cumsum(cric_data_sachin)"
      ],
      "execution_count": null,
      "outputs": []
    },
    {
      "cell_type": "code",
      "metadata": {
        "colab": {
          "base_uri": "https://localhost:8080/"
        },
        "id": "02m4O2Kogn4i",
        "outputId": "a8a75f24-7953-430f-92c5-10a788b3b3f6"
      },
      "source": [
        "sachin_cum"
      ],
      "execution_count": null,
      "outputs": [
        {
          "output_type": "execute_result",
          "data": {
            "text/plain": [
              "array([ 100.,  111.,  119.,  190.,  294.,  312.,  320.,  406.,  418.,\n",
              "        503.,  521.,  525.,  532.,  569.,  583.,  583.,  587.,  587.,\n",
              "        608.,  609.,  671.,  671.,  809.,  847.,  849.,  895.,  960.,\n",
              "        960.,  999., 1047., 1188., 1250., 1262., 1263., 1304., 1315.,\n",
              "       1318., 1504., 1515., 1542., 1569., 1620., 1638., 1670., 1816.,\n",
              "       1821., 1866., 2007., 2019., 2084., 2111., 2118., 2134., 2136.,\n",
              "       2164., 2170., 2293., 2413., 2420., 2423., 2423., 2504., 2506.,\n",
              "       2560., 2682., 2686., 2700., 2700., 2800., 2815., 2815., 2872.,\n",
              "       2971., 3008., 3046., 3078., 3099., 3131., 3171., 3171., 3176.,\n",
              "       3184., 3189., 3189., 3239., 3269., 3306., 3395., 3399., 3497.,\n",
              "       3580., 3673., 3673., 3725., 3877., 3878., 3886., 3979., 4024.,\n",
              "       4050., 4050., 4051., 4051., 4067., 4114., 4203., 4206., 4207.,\n",
              "       4260., 4276., 4276., 4357., 4371., 4449., 4455., 4560., 4682.,\n",
              "       4691., 4699., 4727., 4762., 4831., 4844., 4941., 5034., 5036.,\n",
              "       5072., 5111., 5113., 5142., 5154., 5173., 5207., 5209., 5309.,\n",
              "       5353., 5435., 5435., 5514., 5520., 5529., 5537., 5560., 5653.,\n",
              "       5688., 5751., 5825., 5833., 5950., 5989., 6038., 6102., 6145.,\n",
              "       6217., 6222., 6239., 6239., 6304., 6324., 6465., 6493., 6537.,\n",
              "       6564., 6624., 6692., 6695., 6834., 6865., 6867., 6911., 6958.,\n",
              "       6964., 6981., 7016., 7104., 7218., 7225., 7352., 7352., 7397.,\n",
              "       7430., 7540., 7686., 7693., 7718., 7727., 7729., 7740., 7757.,\n",
              "       7771., 7772., 7817., 7911., 7939., 7943., 8005., 8006., 8015.,\n",
              "       8082., 8092., 8191., 8246., 8246., 8247., 8348., 8350., 8351.,\n",
              "       8367., 8507., 8530., 8643., 8653., 8654., 8695., 8696., 8724.,\n",
              "       8726., 8748., 8777., 8778., 8803., 8905., 8905., 8932., 8972.])"
            ]
          },
          "metadata": {
            "tags": []
          },
          "execution_count": 7
        }
      ]
    },
    {
      "cell_type": "code",
      "metadata": {
        "id": "e4HNdH3Qgx_d"
      },
      "source": [
        "sachin_histogram  = np.histogram(sachin_cum, bins =np.arange(0, 10000, 1000))"
      ],
      "execution_count": null,
      "outputs": []
    },
    {
      "cell_type": "code",
      "metadata": {
        "colab": {
          "base_uri": "https://localhost:8080/"
        },
        "id": "G9yXb2F5g66H",
        "outputId": "ae937664-4d9b-4271-9433-390c0f1da21e"
      },
      "source": [
        "sachin_histogram"
      ],
      "execution_count": null,
      "outputs": [
        {
          "output_type": "execute_result",
          "data": {
            "text/plain": [
              "(array([29, 18, 26, 25, 26, 26, 23, 22, 30]),\n",
              " array([   0, 1000, 2000, 3000, 4000, 5000, 6000, 7000, 8000, 9000]))"
            ]
          },
          "metadata": {
            "tags": []
          },
          "execution_count": 14
        }
      ]
    },
    {
      "cell_type": "code",
      "metadata": {
        "id": "lyB5MBElg-XL"
      },
      "source": [
        ""
      ],
      "execution_count": null,
      "outputs": []
    }
  ]
}