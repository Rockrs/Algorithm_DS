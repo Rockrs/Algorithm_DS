{
  "nbformat": 4,
  "nbformat_minor": 0,
  "metadata": {
    "colab": {
      "name": "MaximumIndex_gfg.ipynb",
      "provenance": [],
      "collapsed_sections": [],
      "authorship_tag": "ABX9TyNTif2Jinnk2WJulLIFn+bF",
      "include_colab_link": true
    },
    "kernelspec": {
      "name": "python3",
      "display_name": "Python 3"
    }
  },
  "cells": [
    {
      "cell_type": "markdown",
      "metadata": {
        "id": "view-in-github",
        "colab_type": "text"
      },
      "source": [
        "<a href=\"https://colab.research.google.com/github/Rockrs/Algorithm_DS/blob/master/MaximumIndex_gfg.ipynb\" target=\"_parent\"><img src=\"https://colab.research.google.com/assets/colab-badge.svg\" alt=\"Open In Colab\"/></a>"
      ]
    },
    {
      "cell_type": "code",
      "metadata": {
        "colab": {
          "base_uri": "https://localhost:8080/"
        },
        "id": "ziONTUhUECsm",
        "outputId": "2e1bef5e-ed1e-4160-db65-08d38b8f6a8a"
      },
      "source": [
        "from collections import deque\n",
        "def maxIndexDiff(arr):\n",
        "    q = deque()\n",
        "    q.append(0)\n",
        "    index=1\n",
        "    n = len(arr)\n",
        "    l = float(\"-inf\")\n",
        "    \n",
        "    while(index<n):\n",
        "        if arr[index]>=arr[q[0]]:\n",
        "            j = 0\n",
        "            while (j<len(q) and arr[index]>=arr[q[j]]):\n",
        "                l = max(l,index-q[j])\n",
        "                j+=1\n",
        "        else:\n",
        "            q.appendleft(index)\n",
        "        index+=1\n",
        "    \n",
        "    return l\n",
        "A = [34,8,10,3,2,80,30,33,1]\n",
        "print(maxIndexDiff(A))"
      ],
      "execution_count": 12,
      "outputs": [
        {
          "output_type": "stream",
          "text": [
            "6\n"
          ],
          "name": "stdout"
        }
      ]
    }
  ]
}